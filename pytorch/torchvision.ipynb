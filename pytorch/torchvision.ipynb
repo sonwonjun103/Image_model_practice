{
  "nbformat": 4,
  "nbformat_minor": 0,
  "metadata": {
    "colab": {
      "name": "torchvision.ipynb",
      "provenance": [],
      "collapsed_sections": []
    },
    "kernelspec": {
      "name": "python3",
      "display_name": "Python 3"
    },
    "language_info": {
      "name": "python"
    },
    "widgets": {
      "application/vnd.jupyter.widget-state+json": {
        "88285df091aa44909d9b45a02f900d5b": {
          "model_module": "@jupyter-widgets/controls",
          "model_name": "HBoxModel",
          "model_module_version": "1.5.0",
          "state": {
            "_dom_classes": [],
            "_model_module": "@jupyter-widgets/controls",
            "_model_module_version": "1.5.0",
            "_model_name": "HBoxModel",
            "_view_count": null,
            "_view_module": "@jupyter-widgets/controls",
            "_view_module_version": "1.5.0",
            "_view_name": "HBoxView",
            "box_style": "",
            "children": [
              "IPY_MODEL_a06f878115c24d36a4d0a44108898637",
              "IPY_MODEL_8961256ae7a344f5a62e2b9982b88f57",
              "IPY_MODEL_a07d939cf0a940c380d765c723be4e80"
            ],
            "layout": "IPY_MODEL_154208aa95cd495f9211bc9425f017c3"
          }
        },
        "a06f878115c24d36a4d0a44108898637": {
          "model_module": "@jupyter-widgets/controls",
          "model_name": "HTMLModel",
          "model_module_version": "1.5.0",
          "state": {
            "_dom_classes": [],
            "_model_module": "@jupyter-widgets/controls",
            "_model_module_version": "1.5.0",
            "_model_name": "HTMLModel",
            "_view_count": null,
            "_view_module": "@jupyter-widgets/controls",
            "_view_module_version": "1.5.0",
            "_view_name": "HTMLView",
            "description": "",
            "description_tooltip": null,
            "layout": "IPY_MODEL_25b230be7faf4e2b873fd2d2d299c304",
            "placeholder": "​",
            "style": "IPY_MODEL_ff405b77d183459282c161d0258c8e50",
            "value": "100%"
          }
        },
        "8961256ae7a344f5a62e2b9982b88f57": {
          "model_module": "@jupyter-widgets/controls",
          "model_name": "FloatProgressModel",
          "model_module_version": "1.5.0",
          "state": {
            "_dom_classes": [],
            "_model_module": "@jupyter-widgets/controls",
            "_model_module_version": "1.5.0",
            "_model_name": "FloatProgressModel",
            "_view_count": null,
            "_view_module": "@jupyter-widgets/controls",
            "_view_module_version": "1.5.0",
            "_view_name": "ProgressView",
            "bar_style": "success",
            "description": "",
            "description_tooltip": null,
            "layout": "IPY_MODEL_fc20d7be7fc54e3eb24431984bc14c26",
            "max": 26421880,
            "min": 0,
            "orientation": "horizontal",
            "style": "IPY_MODEL_325a225146964b27b061930f66bea391",
            "value": 26421880
          }
        },
        "a07d939cf0a940c380d765c723be4e80": {
          "model_module": "@jupyter-widgets/controls",
          "model_name": "HTMLModel",
          "model_module_version": "1.5.0",
          "state": {
            "_dom_classes": [],
            "_model_module": "@jupyter-widgets/controls",
            "_model_module_version": "1.5.0",
            "_model_name": "HTMLModel",
            "_view_count": null,
            "_view_module": "@jupyter-widgets/controls",
            "_view_module_version": "1.5.0",
            "_view_name": "HTMLView",
            "description": "",
            "description_tooltip": null,
            "layout": "IPY_MODEL_4651e0f44fc94a7395c5f8e205340aea",
            "placeholder": "​",
            "style": "IPY_MODEL_96273ff7ac3040ae92dca4870e2c5604",
            "value": " 26421880/26421880 [00:01&lt;00:00, 25817469.95it/s]"
          }
        },
        "154208aa95cd495f9211bc9425f017c3": {
          "model_module": "@jupyter-widgets/base",
          "model_name": "LayoutModel",
          "model_module_version": "1.2.0",
          "state": {
            "_model_module": "@jupyter-widgets/base",
            "_model_module_version": "1.2.0",
            "_model_name": "LayoutModel",
            "_view_count": null,
            "_view_module": "@jupyter-widgets/base",
            "_view_module_version": "1.2.0",
            "_view_name": "LayoutView",
            "align_content": null,
            "align_items": null,
            "align_self": null,
            "border": null,
            "bottom": null,
            "display": null,
            "flex": null,
            "flex_flow": null,
            "grid_area": null,
            "grid_auto_columns": null,
            "grid_auto_flow": null,
            "grid_auto_rows": null,
            "grid_column": null,
            "grid_gap": null,
            "grid_row": null,
            "grid_template_areas": null,
            "grid_template_columns": null,
            "grid_template_rows": null,
            "height": null,
            "justify_content": null,
            "justify_items": null,
            "left": null,
            "margin": null,
            "max_height": null,
            "max_width": null,
            "min_height": null,
            "min_width": null,
            "object_fit": null,
            "object_position": null,
            "order": null,
            "overflow": null,
            "overflow_x": null,
            "overflow_y": null,
            "padding": null,
            "right": null,
            "top": null,
            "visibility": null,
            "width": null
          }
        },
        "25b230be7faf4e2b873fd2d2d299c304": {
          "model_module": "@jupyter-widgets/base",
          "model_name": "LayoutModel",
          "model_module_version": "1.2.0",
          "state": {
            "_model_module": "@jupyter-widgets/base",
            "_model_module_version": "1.2.0",
            "_model_name": "LayoutModel",
            "_view_count": null,
            "_view_module": "@jupyter-widgets/base",
            "_view_module_version": "1.2.0",
            "_view_name": "LayoutView",
            "align_content": null,
            "align_items": null,
            "align_self": null,
            "border": null,
            "bottom": null,
            "display": null,
            "flex": null,
            "flex_flow": null,
            "grid_area": null,
            "grid_auto_columns": null,
            "grid_auto_flow": null,
            "grid_auto_rows": null,
            "grid_column": null,
            "grid_gap": null,
            "grid_row": null,
            "grid_template_areas": null,
            "grid_template_columns": null,
            "grid_template_rows": null,
            "height": null,
            "justify_content": null,
            "justify_items": null,
            "left": null,
            "margin": null,
            "max_height": null,
            "max_width": null,
            "min_height": null,
            "min_width": null,
            "object_fit": null,
            "object_position": null,
            "order": null,
            "overflow": null,
            "overflow_x": null,
            "overflow_y": null,
            "padding": null,
            "right": null,
            "top": null,
            "visibility": null,
            "width": null
          }
        },
        "ff405b77d183459282c161d0258c8e50": {
          "model_module": "@jupyter-widgets/controls",
          "model_name": "DescriptionStyleModel",
          "model_module_version": "1.5.0",
          "state": {
            "_model_module": "@jupyter-widgets/controls",
            "_model_module_version": "1.5.0",
            "_model_name": "DescriptionStyleModel",
            "_view_count": null,
            "_view_module": "@jupyter-widgets/base",
            "_view_module_version": "1.2.0",
            "_view_name": "StyleView",
            "description_width": ""
          }
        },
        "fc20d7be7fc54e3eb24431984bc14c26": {
          "model_module": "@jupyter-widgets/base",
          "model_name": "LayoutModel",
          "model_module_version": "1.2.0",
          "state": {
            "_model_module": "@jupyter-widgets/base",
            "_model_module_version": "1.2.0",
            "_model_name": "LayoutModel",
            "_view_count": null,
            "_view_module": "@jupyter-widgets/base",
            "_view_module_version": "1.2.0",
            "_view_name": "LayoutView",
            "align_content": null,
            "align_items": null,
            "align_self": null,
            "border": null,
            "bottom": null,
            "display": null,
            "flex": null,
            "flex_flow": null,
            "grid_area": null,
            "grid_auto_columns": null,
            "grid_auto_flow": null,
            "grid_auto_rows": null,
            "grid_column": null,
            "grid_gap": null,
            "grid_row": null,
            "grid_template_areas": null,
            "grid_template_columns": null,
            "grid_template_rows": null,
            "height": null,
            "justify_content": null,
            "justify_items": null,
            "left": null,
            "margin": null,
            "max_height": null,
            "max_width": null,
            "min_height": null,
            "min_width": null,
            "object_fit": null,
            "object_position": null,
            "order": null,
            "overflow": null,
            "overflow_x": null,
            "overflow_y": null,
            "padding": null,
            "right": null,
            "top": null,
            "visibility": null,
            "width": null
          }
        },
        "325a225146964b27b061930f66bea391": {
          "model_module": "@jupyter-widgets/controls",
          "model_name": "ProgressStyleModel",
          "model_module_version": "1.5.0",
          "state": {
            "_model_module": "@jupyter-widgets/controls",
            "_model_module_version": "1.5.0",
            "_model_name": "ProgressStyleModel",
            "_view_count": null,
            "_view_module": "@jupyter-widgets/base",
            "_view_module_version": "1.2.0",
            "_view_name": "StyleView",
            "bar_color": null,
            "description_width": ""
          }
        },
        "4651e0f44fc94a7395c5f8e205340aea": {
          "model_module": "@jupyter-widgets/base",
          "model_name": "LayoutModel",
          "model_module_version": "1.2.0",
          "state": {
            "_model_module": "@jupyter-widgets/base",
            "_model_module_version": "1.2.0",
            "_model_name": "LayoutModel",
            "_view_count": null,
            "_view_module": "@jupyter-widgets/base",
            "_view_module_version": "1.2.0",
            "_view_name": "LayoutView",
            "align_content": null,
            "align_items": null,
            "align_self": null,
            "border": null,
            "bottom": null,
            "display": null,
            "flex": null,
            "flex_flow": null,
            "grid_area": null,
            "grid_auto_columns": null,
            "grid_auto_flow": null,
            "grid_auto_rows": null,
            "grid_column": null,
            "grid_gap": null,
            "grid_row": null,
            "grid_template_areas": null,
            "grid_template_columns": null,
            "grid_template_rows": null,
            "height": null,
            "justify_content": null,
            "justify_items": null,
            "left": null,
            "margin": null,
            "max_height": null,
            "max_width": null,
            "min_height": null,
            "min_width": null,
            "object_fit": null,
            "object_position": null,
            "order": null,
            "overflow": null,
            "overflow_x": null,
            "overflow_y": null,
            "padding": null,
            "right": null,
            "top": null,
            "visibility": null,
            "width": null
          }
        },
        "96273ff7ac3040ae92dca4870e2c5604": {
          "model_module": "@jupyter-widgets/controls",
          "model_name": "DescriptionStyleModel",
          "model_module_version": "1.5.0",
          "state": {
            "_model_module": "@jupyter-widgets/controls",
            "_model_module_version": "1.5.0",
            "_model_name": "DescriptionStyleModel",
            "_view_count": null,
            "_view_module": "@jupyter-widgets/base",
            "_view_module_version": "1.2.0",
            "_view_name": "StyleView",
            "description_width": ""
          }
        },
        "e70bcd69ac5445ad9a0bf462f301c36a": {
          "model_module": "@jupyter-widgets/controls",
          "model_name": "HBoxModel",
          "model_module_version": "1.5.0",
          "state": {
            "_dom_classes": [],
            "_model_module": "@jupyter-widgets/controls",
            "_model_module_version": "1.5.0",
            "_model_name": "HBoxModel",
            "_view_count": null,
            "_view_module": "@jupyter-widgets/controls",
            "_view_module_version": "1.5.0",
            "_view_name": "HBoxView",
            "box_style": "",
            "children": [
              "IPY_MODEL_dc901a7876eb4615b75260979dd51e23",
              "IPY_MODEL_4fc08398734944a4b68c5b6b690e2d35",
              "IPY_MODEL_6d22847d88374feda8f5bd24c15544f9"
            ],
            "layout": "IPY_MODEL_1e6acd934791411dbfc1c561cf3d83f5"
          }
        },
        "dc901a7876eb4615b75260979dd51e23": {
          "model_module": "@jupyter-widgets/controls",
          "model_name": "HTMLModel",
          "model_module_version": "1.5.0",
          "state": {
            "_dom_classes": [],
            "_model_module": "@jupyter-widgets/controls",
            "_model_module_version": "1.5.0",
            "_model_name": "HTMLModel",
            "_view_count": null,
            "_view_module": "@jupyter-widgets/controls",
            "_view_module_version": "1.5.0",
            "_view_name": "HTMLView",
            "description": "",
            "description_tooltip": null,
            "layout": "IPY_MODEL_6427270e63fd4e3b9f4a15c2ea278f6e",
            "placeholder": "​",
            "style": "IPY_MODEL_f579c958726140e987e89607ff716845",
            "value": "100%"
          }
        },
        "4fc08398734944a4b68c5b6b690e2d35": {
          "model_module": "@jupyter-widgets/controls",
          "model_name": "FloatProgressModel",
          "model_module_version": "1.5.0",
          "state": {
            "_dom_classes": [],
            "_model_module": "@jupyter-widgets/controls",
            "_model_module_version": "1.5.0",
            "_model_name": "FloatProgressModel",
            "_view_count": null,
            "_view_module": "@jupyter-widgets/controls",
            "_view_module_version": "1.5.0",
            "_view_name": "ProgressView",
            "bar_style": "success",
            "description": "",
            "description_tooltip": null,
            "layout": "IPY_MODEL_95e16fad247041799b8b2b667bca0c71",
            "max": 29515,
            "min": 0,
            "orientation": "horizontal",
            "style": "IPY_MODEL_2d33f8f1f1de4d969e15b416111c250c",
            "value": 29515
          }
        },
        "6d22847d88374feda8f5bd24c15544f9": {
          "model_module": "@jupyter-widgets/controls",
          "model_name": "HTMLModel",
          "model_module_version": "1.5.0",
          "state": {
            "_dom_classes": [],
            "_model_module": "@jupyter-widgets/controls",
            "_model_module_version": "1.5.0",
            "_model_name": "HTMLModel",
            "_view_count": null,
            "_view_module": "@jupyter-widgets/controls",
            "_view_module_version": "1.5.0",
            "_view_name": "HTMLView",
            "description": "",
            "description_tooltip": null,
            "layout": "IPY_MODEL_4f9cd0a76430432780dac5508e7df45b",
            "placeholder": "​",
            "style": "IPY_MODEL_025eb894e428469699c3f7585e14fb8c",
            "value": " 29515/29515 [00:00&lt;00:00, 267939.79it/s]"
          }
        },
        "1e6acd934791411dbfc1c561cf3d83f5": {
          "model_module": "@jupyter-widgets/base",
          "model_name": "LayoutModel",
          "model_module_version": "1.2.0",
          "state": {
            "_model_module": "@jupyter-widgets/base",
            "_model_module_version": "1.2.0",
            "_model_name": "LayoutModel",
            "_view_count": null,
            "_view_module": "@jupyter-widgets/base",
            "_view_module_version": "1.2.0",
            "_view_name": "LayoutView",
            "align_content": null,
            "align_items": null,
            "align_self": null,
            "border": null,
            "bottom": null,
            "display": null,
            "flex": null,
            "flex_flow": null,
            "grid_area": null,
            "grid_auto_columns": null,
            "grid_auto_flow": null,
            "grid_auto_rows": null,
            "grid_column": null,
            "grid_gap": null,
            "grid_row": null,
            "grid_template_areas": null,
            "grid_template_columns": null,
            "grid_template_rows": null,
            "height": null,
            "justify_content": null,
            "justify_items": null,
            "left": null,
            "margin": null,
            "max_height": null,
            "max_width": null,
            "min_height": null,
            "min_width": null,
            "object_fit": null,
            "object_position": null,
            "order": null,
            "overflow": null,
            "overflow_x": null,
            "overflow_y": null,
            "padding": null,
            "right": null,
            "top": null,
            "visibility": null,
            "width": null
          }
        },
        "6427270e63fd4e3b9f4a15c2ea278f6e": {
          "model_module": "@jupyter-widgets/base",
          "model_name": "LayoutModel",
          "model_module_version": "1.2.0",
          "state": {
            "_model_module": "@jupyter-widgets/base",
            "_model_module_version": "1.2.0",
            "_model_name": "LayoutModel",
            "_view_count": null,
            "_view_module": "@jupyter-widgets/base",
            "_view_module_version": "1.2.0",
            "_view_name": "LayoutView",
            "align_content": null,
            "align_items": null,
            "align_self": null,
            "border": null,
            "bottom": null,
            "display": null,
            "flex": null,
            "flex_flow": null,
            "grid_area": null,
            "grid_auto_columns": null,
            "grid_auto_flow": null,
            "grid_auto_rows": null,
            "grid_column": null,
            "grid_gap": null,
            "grid_row": null,
            "grid_template_areas": null,
            "grid_template_columns": null,
            "grid_template_rows": null,
            "height": null,
            "justify_content": null,
            "justify_items": null,
            "left": null,
            "margin": null,
            "max_height": null,
            "max_width": null,
            "min_height": null,
            "min_width": null,
            "object_fit": null,
            "object_position": null,
            "order": null,
            "overflow": null,
            "overflow_x": null,
            "overflow_y": null,
            "padding": null,
            "right": null,
            "top": null,
            "visibility": null,
            "width": null
          }
        },
        "f579c958726140e987e89607ff716845": {
          "model_module": "@jupyter-widgets/controls",
          "model_name": "DescriptionStyleModel",
          "model_module_version": "1.5.0",
          "state": {
            "_model_module": "@jupyter-widgets/controls",
            "_model_module_version": "1.5.0",
            "_model_name": "DescriptionStyleModel",
            "_view_count": null,
            "_view_module": "@jupyter-widgets/base",
            "_view_module_version": "1.2.0",
            "_view_name": "StyleView",
            "description_width": ""
          }
        },
        "95e16fad247041799b8b2b667bca0c71": {
          "model_module": "@jupyter-widgets/base",
          "model_name": "LayoutModel",
          "model_module_version": "1.2.0",
          "state": {
            "_model_module": "@jupyter-widgets/base",
            "_model_module_version": "1.2.0",
            "_model_name": "LayoutModel",
            "_view_count": null,
            "_view_module": "@jupyter-widgets/base",
            "_view_module_version": "1.2.0",
            "_view_name": "LayoutView",
            "align_content": null,
            "align_items": null,
            "align_self": null,
            "border": null,
            "bottom": null,
            "display": null,
            "flex": null,
            "flex_flow": null,
            "grid_area": null,
            "grid_auto_columns": null,
            "grid_auto_flow": null,
            "grid_auto_rows": null,
            "grid_column": null,
            "grid_gap": null,
            "grid_row": null,
            "grid_template_areas": null,
            "grid_template_columns": null,
            "grid_template_rows": null,
            "height": null,
            "justify_content": null,
            "justify_items": null,
            "left": null,
            "margin": null,
            "max_height": null,
            "max_width": null,
            "min_height": null,
            "min_width": null,
            "object_fit": null,
            "object_position": null,
            "order": null,
            "overflow": null,
            "overflow_x": null,
            "overflow_y": null,
            "padding": null,
            "right": null,
            "top": null,
            "visibility": null,
            "width": null
          }
        },
        "2d33f8f1f1de4d969e15b416111c250c": {
          "model_module": "@jupyter-widgets/controls",
          "model_name": "ProgressStyleModel",
          "model_module_version": "1.5.0",
          "state": {
            "_model_module": "@jupyter-widgets/controls",
            "_model_module_version": "1.5.0",
            "_model_name": "ProgressStyleModel",
            "_view_count": null,
            "_view_module": "@jupyter-widgets/base",
            "_view_module_version": "1.2.0",
            "_view_name": "StyleView",
            "bar_color": null,
            "description_width": ""
          }
        },
        "4f9cd0a76430432780dac5508e7df45b": {
          "model_module": "@jupyter-widgets/base",
          "model_name": "LayoutModel",
          "model_module_version": "1.2.0",
          "state": {
            "_model_module": "@jupyter-widgets/base",
            "_model_module_version": "1.2.0",
            "_model_name": "LayoutModel",
            "_view_count": null,
            "_view_module": "@jupyter-widgets/base",
            "_view_module_version": "1.2.0",
            "_view_name": "LayoutView",
            "align_content": null,
            "align_items": null,
            "align_self": null,
            "border": null,
            "bottom": null,
            "display": null,
            "flex": null,
            "flex_flow": null,
            "grid_area": null,
            "grid_auto_columns": null,
            "grid_auto_flow": null,
            "grid_auto_rows": null,
            "grid_column": null,
            "grid_gap": null,
            "grid_row": null,
            "grid_template_areas": null,
            "grid_template_columns": null,
            "grid_template_rows": null,
            "height": null,
            "justify_content": null,
            "justify_items": null,
            "left": null,
            "margin": null,
            "max_height": null,
            "max_width": null,
            "min_height": null,
            "min_width": null,
            "object_fit": null,
            "object_position": null,
            "order": null,
            "overflow": null,
            "overflow_x": null,
            "overflow_y": null,
            "padding": null,
            "right": null,
            "top": null,
            "visibility": null,
            "width": null
          }
        },
        "025eb894e428469699c3f7585e14fb8c": {
          "model_module": "@jupyter-widgets/controls",
          "model_name": "DescriptionStyleModel",
          "model_module_version": "1.5.0",
          "state": {
            "_model_module": "@jupyter-widgets/controls",
            "_model_module_version": "1.5.0",
            "_model_name": "DescriptionStyleModel",
            "_view_count": null,
            "_view_module": "@jupyter-widgets/base",
            "_view_module_version": "1.2.0",
            "_view_name": "StyleView",
            "description_width": ""
          }
        },
        "a7a8095a7fa54fd98aa436ef443529fb": {
          "model_module": "@jupyter-widgets/controls",
          "model_name": "HBoxModel",
          "model_module_version": "1.5.0",
          "state": {
            "_dom_classes": [],
            "_model_module": "@jupyter-widgets/controls",
            "_model_module_version": "1.5.0",
            "_model_name": "HBoxModel",
            "_view_count": null,
            "_view_module": "@jupyter-widgets/controls",
            "_view_module_version": "1.5.0",
            "_view_name": "HBoxView",
            "box_style": "",
            "children": [
              "IPY_MODEL_82c4602f6198432da3a11639144eb68e",
              "IPY_MODEL_25e9750942b649e68b159efa6a40c620",
              "IPY_MODEL_cf356888860d42b4a48e9616924ce222"
            ],
            "layout": "IPY_MODEL_5cdae9ceeb0f45a580e8d796f291f472"
          }
        },
        "82c4602f6198432da3a11639144eb68e": {
          "model_module": "@jupyter-widgets/controls",
          "model_name": "HTMLModel",
          "model_module_version": "1.5.0",
          "state": {
            "_dom_classes": [],
            "_model_module": "@jupyter-widgets/controls",
            "_model_module_version": "1.5.0",
            "_model_name": "HTMLModel",
            "_view_count": null,
            "_view_module": "@jupyter-widgets/controls",
            "_view_module_version": "1.5.0",
            "_view_name": "HTMLView",
            "description": "",
            "description_tooltip": null,
            "layout": "IPY_MODEL_0a233c4f9a9d42c7a5d946ef109d6f29",
            "placeholder": "​",
            "style": "IPY_MODEL_19e6741fa9534a87a6c4b079b9c0c5e3",
            "value": "100%"
          }
        },
        "25e9750942b649e68b159efa6a40c620": {
          "model_module": "@jupyter-widgets/controls",
          "model_name": "FloatProgressModel",
          "model_module_version": "1.5.0",
          "state": {
            "_dom_classes": [],
            "_model_module": "@jupyter-widgets/controls",
            "_model_module_version": "1.5.0",
            "_model_name": "FloatProgressModel",
            "_view_count": null,
            "_view_module": "@jupyter-widgets/controls",
            "_view_module_version": "1.5.0",
            "_view_name": "ProgressView",
            "bar_style": "success",
            "description": "",
            "description_tooltip": null,
            "layout": "IPY_MODEL_c972ad424a034252844142ed807e0caf",
            "max": 4422102,
            "min": 0,
            "orientation": "horizontal",
            "style": "IPY_MODEL_e3a988ad181243ce96575110822be66c",
            "value": 4422102
          }
        },
        "cf356888860d42b4a48e9616924ce222": {
          "model_module": "@jupyter-widgets/controls",
          "model_name": "HTMLModel",
          "model_module_version": "1.5.0",
          "state": {
            "_dom_classes": [],
            "_model_module": "@jupyter-widgets/controls",
            "_model_module_version": "1.5.0",
            "_model_name": "HTMLModel",
            "_view_count": null,
            "_view_module": "@jupyter-widgets/controls",
            "_view_module_version": "1.5.0",
            "_view_name": "HTMLView",
            "description": "",
            "description_tooltip": null,
            "layout": "IPY_MODEL_3e7f798c9f374cb197c4802d4185b248",
            "placeholder": "​",
            "style": "IPY_MODEL_bffe979a32934757a48361ed5cf3175b",
            "value": " 4422102/4422102 [00:00&lt;00:00, 7546631.26it/s]"
          }
        },
        "5cdae9ceeb0f45a580e8d796f291f472": {
          "model_module": "@jupyter-widgets/base",
          "model_name": "LayoutModel",
          "model_module_version": "1.2.0",
          "state": {
            "_model_module": "@jupyter-widgets/base",
            "_model_module_version": "1.2.0",
            "_model_name": "LayoutModel",
            "_view_count": null,
            "_view_module": "@jupyter-widgets/base",
            "_view_module_version": "1.2.0",
            "_view_name": "LayoutView",
            "align_content": null,
            "align_items": null,
            "align_self": null,
            "border": null,
            "bottom": null,
            "display": null,
            "flex": null,
            "flex_flow": null,
            "grid_area": null,
            "grid_auto_columns": null,
            "grid_auto_flow": null,
            "grid_auto_rows": null,
            "grid_column": null,
            "grid_gap": null,
            "grid_row": null,
            "grid_template_areas": null,
            "grid_template_columns": null,
            "grid_template_rows": null,
            "height": null,
            "justify_content": null,
            "justify_items": null,
            "left": null,
            "margin": null,
            "max_height": null,
            "max_width": null,
            "min_height": null,
            "min_width": null,
            "object_fit": null,
            "object_position": null,
            "order": null,
            "overflow": null,
            "overflow_x": null,
            "overflow_y": null,
            "padding": null,
            "right": null,
            "top": null,
            "visibility": null,
            "width": null
          }
        },
        "0a233c4f9a9d42c7a5d946ef109d6f29": {
          "model_module": "@jupyter-widgets/base",
          "model_name": "LayoutModel",
          "model_module_version": "1.2.0",
          "state": {
            "_model_module": "@jupyter-widgets/base",
            "_model_module_version": "1.2.0",
            "_model_name": "LayoutModel",
            "_view_count": null,
            "_view_module": "@jupyter-widgets/base",
            "_view_module_version": "1.2.0",
            "_view_name": "LayoutView",
            "align_content": null,
            "align_items": null,
            "align_self": null,
            "border": null,
            "bottom": null,
            "display": null,
            "flex": null,
            "flex_flow": null,
            "grid_area": null,
            "grid_auto_columns": null,
            "grid_auto_flow": null,
            "grid_auto_rows": null,
            "grid_column": null,
            "grid_gap": null,
            "grid_row": null,
            "grid_template_areas": null,
            "grid_template_columns": null,
            "grid_template_rows": null,
            "height": null,
            "justify_content": null,
            "justify_items": null,
            "left": null,
            "margin": null,
            "max_height": null,
            "max_width": null,
            "min_height": null,
            "min_width": null,
            "object_fit": null,
            "object_position": null,
            "order": null,
            "overflow": null,
            "overflow_x": null,
            "overflow_y": null,
            "padding": null,
            "right": null,
            "top": null,
            "visibility": null,
            "width": null
          }
        },
        "19e6741fa9534a87a6c4b079b9c0c5e3": {
          "model_module": "@jupyter-widgets/controls",
          "model_name": "DescriptionStyleModel",
          "model_module_version": "1.5.0",
          "state": {
            "_model_module": "@jupyter-widgets/controls",
            "_model_module_version": "1.5.0",
            "_model_name": "DescriptionStyleModel",
            "_view_count": null,
            "_view_module": "@jupyter-widgets/base",
            "_view_module_version": "1.2.0",
            "_view_name": "StyleView",
            "description_width": ""
          }
        },
        "c972ad424a034252844142ed807e0caf": {
          "model_module": "@jupyter-widgets/base",
          "model_name": "LayoutModel",
          "model_module_version": "1.2.0",
          "state": {
            "_model_module": "@jupyter-widgets/base",
            "_model_module_version": "1.2.0",
            "_model_name": "LayoutModel",
            "_view_count": null,
            "_view_module": "@jupyter-widgets/base",
            "_view_module_version": "1.2.0",
            "_view_name": "LayoutView",
            "align_content": null,
            "align_items": null,
            "align_self": null,
            "border": null,
            "bottom": null,
            "display": null,
            "flex": null,
            "flex_flow": null,
            "grid_area": null,
            "grid_auto_columns": null,
            "grid_auto_flow": null,
            "grid_auto_rows": null,
            "grid_column": null,
            "grid_gap": null,
            "grid_row": null,
            "grid_template_areas": null,
            "grid_template_columns": null,
            "grid_template_rows": null,
            "height": null,
            "justify_content": null,
            "justify_items": null,
            "left": null,
            "margin": null,
            "max_height": null,
            "max_width": null,
            "min_height": null,
            "min_width": null,
            "object_fit": null,
            "object_position": null,
            "order": null,
            "overflow": null,
            "overflow_x": null,
            "overflow_y": null,
            "padding": null,
            "right": null,
            "top": null,
            "visibility": null,
            "width": null
          }
        },
        "e3a988ad181243ce96575110822be66c": {
          "model_module": "@jupyter-widgets/controls",
          "model_name": "ProgressStyleModel",
          "model_module_version": "1.5.0",
          "state": {
            "_model_module": "@jupyter-widgets/controls",
            "_model_module_version": "1.5.0",
            "_model_name": "ProgressStyleModel",
            "_view_count": null,
            "_view_module": "@jupyter-widgets/base",
            "_view_module_version": "1.2.0",
            "_view_name": "StyleView",
            "bar_color": null,
            "description_width": ""
          }
        },
        "3e7f798c9f374cb197c4802d4185b248": {
          "model_module": "@jupyter-widgets/base",
          "model_name": "LayoutModel",
          "model_module_version": "1.2.0",
          "state": {
            "_model_module": "@jupyter-widgets/base",
            "_model_module_version": "1.2.0",
            "_model_name": "LayoutModel",
            "_view_count": null,
            "_view_module": "@jupyter-widgets/base",
            "_view_module_version": "1.2.0",
            "_view_name": "LayoutView",
            "align_content": null,
            "align_items": null,
            "align_self": null,
            "border": null,
            "bottom": null,
            "display": null,
            "flex": null,
            "flex_flow": null,
            "grid_area": null,
            "grid_auto_columns": null,
            "grid_auto_flow": null,
            "grid_auto_rows": null,
            "grid_column": null,
            "grid_gap": null,
            "grid_row": null,
            "grid_template_areas": null,
            "grid_template_columns": null,
            "grid_template_rows": null,
            "height": null,
            "justify_content": null,
            "justify_items": null,
            "left": null,
            "margin": null,
            "max_height": null,
            "max_width": null,
            "min_height": null,
            "min_width": null,
            "object_fit": null,
            "object_position": null,
            "order": null,
            "overflow": null,
            "overflow_x": null,
            "overflow_y": null,
            "padding": null,
            "right": null,
            "top": null,
            "visibility": null,
            "width": null
          }
        },
        "bffe979a32934757a48361ed5cf3175b": {
          "model_module": "@jupyter-widgets/controls",
          "model_name": "DescriptionStyleModel",
          "model_module_version": "1.5.0",
          "state": {
            "_model_module": "@jupyter-widgets/controls",
            "_model_module_version": "1.5.0",
            "_model_name": "DescriptionStyleModel",
            "_view_count": null,
            "_view_module": "@jupyter-widgets/base",
            "_view_module_version": "1.2.0",
            "_view_name": "StyleView",
            "description_width": ""
          }
        },
        "1276d592f14a4805918187a0437993be": {
          "model_module": "@jupyter-widgets/controls",
          "model_name": "HBoxModel",
          "model_module_version": "1.5.0",
          "state": {
            "_dom_classes": [],
            "_model_module": "@jupyter-widgets/controls",
            "_model_module_version": "1.5.0",
            "_model_name": "HBoxModel",
            "_view_count": null,
            "_view_module": "@jupyter-widgets/controls",
            "_view_module_version": "1.5.0",
            "_view_name": "HBoxView",
            "box_style": "",
            "children": [
              "IPY_MODEL_7f1430123c394d3ba7bb5b7feeb1a327",
              "IPY_MODEL_e540f7dd3e2f444e8efeb19ee3161261",
              "IPY_MODEL_55fb646cb0614aadaf5f440a9590b2d0"
            ],
            "layout": "IPY_MODEL_1f2eec296aad49e3bf3cf60ed7093143"
          }
        },
        "7f1430123c394d3ba7bb5b7feeb1a327": {
          "model_module": "@jupyter-widgets/controls",
          "model_name": "HTMLModel",
          "model_module_version": "1.5.0",
          "state": {
            "_dom_classes": [],
            "_model_module": "@jupyter-widgets/controls",
            "_model_module_version": "1.5.0",
            "_model_name": "HTMLModel",
            "_view_count": null,
            "_view_module": "@jupyter-widgets/controls",
            "_view_module_version": "1.5.0",
            "_view_name": "HTMLView",
            "description": "",
            "description_tooltip": null,
            "layout": "IPY_MODEL_3fd5d91eac424ee1b4c5d197681639ec",
            "placeholder": "​",
            "style": "IPY_MODEL_046e2298b2654cb59c286a7324bcebb0",
            "value": "100%"
          }
        },
        "e540f7dd3e2f444e8efeb19ee3161261": {
          "model_module": "@jupyter-widgets/controls",
          "model_name": "FloatProgressModel",
          "model_module_version": "1.5.0",
          "state": {
            "_dom_classes": [],
            "_model_module": "@jupyter-widgets/controls",
            "_model_module_version": "1.5.0",
            "_model_name": "FloatProgressModel",
            "_view_count": null,
            "_view_module": "@jupyter-widgets/controls",
            "_view_module_version": "1.5.0",
            "_view_name": "ProgressView",
            "bar_style": "success",
            "description": "",
            "description_tooltip": null,
            "layout": "IPY_MODEL_2d5bcf6a30ec443f883d5e67b216606e",
            "max": 5148,
            "min": 0,
            "orientation": "horizontal",
            "style": "IPY_MODEL_4c4f8093c2d1488b9fd1892bcaeae0d3",
            "value": 5148
          }
        },
        "55fb646cb0614aadaf5f440a9590b2d0": {
          "model_module": "@jupyter-widgets/controls",
          "model_name": "HTMLModel",
          "model_module_version": "1.5.0",
          "state": {
            "_dom_classes": [],
            "_model_module": "@jupyter-widgets/controls",
            "_model_module_version": "1.5.0",
            "_model_name": "HTMLModel",
            "_view_count": null,
            "_view_module": "@jupyter-widgets/controls",
            "_view_module_version": "1.5.0",
            "_view_name": "HTMLView",
            "description": "",
            "description_tooltip": null,
            "layout": "IPY_MODEL_aa854bbfa08e40709656ca565dc66395",
            "placeholder": "​",
            "style": "IPY_MODEL_ca92e7a44bcc4f69948217cc85b82f9c",
            "value": " 5148/5148 [00:00&lt;00:00, 128650.28it/s]"
          }
        },
        "1f2eec296aad49e3bf3cf60ed7093143": {
          "model_module": "@jupyter-widgets/base",
          "model_name": "LayoutModel",
          "model_module_version": "1.2.0",
          "state": {
            "_model_module": "@jupyter-widgets/base",
            "_model_module_version": "1.2.0",
            "_model_name": "LayoutModel",
            "_view_count": null,
            "_view_module": "@jupyter-widgets/base",
            "_view_module_version": "1.2.0",
            "_view_name": "LayoutView",
            "align_content": null,
            "align_items": null,
            "align_self": null,
            "border": null,
            "bottom": null,
            "display": null,
            "flex": null,
            "flex_flow": null,
            "grid_area": null,
            "grid_auto_columns": null,
            "grid_auto_flow": null,
            "grid_auto_rows": null,
            "grid_column": null,
            "grid_gap": null,
            "grid_row": null,
            "grid_template_areas": null,
            "grid_template_columns": null,
            "grid_template_rows": null,
            "height": null,
            "justify_content": null,
            "justify_items": null,
            "left": null,
            "margin": null,
            "max_height": null,
            "max_width": null,
            "min_height": null,
            "min_width": null,
            "object_fit": null,
            "object_position": null,
            "order": null,
            "overflow": null,
            "overflow_x": null,
            "overflow_y": null,
            "padding": null,
            "right": null,
            "top": null,
            "visibility": null,
            "width": null
          }
        },
        "3fd5d91eac424ee1b4c5d197681639ec": {
          "model_module": "@jupyter-widgets/base",
          "model_name": "LayoutModel",
          "model_module_version": "1.2.0",
          "state": {
            "_model_module": "@jupyter-widgets/base",
            "_model_module_version": "1.2.0",
            "_model_name": "LayoutModel",
            "_view_count": null,
            "_view_module": "@jupyter-widgets/base",
            "_view_module_version": "1.2.0",
            "_view_name": "LayoutView",
            "align_content": null,
            "align_items": null,
            "align_self": null,
            "border": null,
            "bottom": null,
            "display": null,
            "flex": null,
            "flex_flow": null,
            "grid_area": null,
            "grid_auto_columns": null,
            "grid_auto_flow": null,
            "grid_auto_rows": null,
            "grid_column": null,
            "grid_gap": null,
            "grid_row": null,
            "grid_template_areas": null,
            "grid_template_columns": null,
            "grid_template_rows": null,
            "height": null,
            "justify_content": null,
            "justify_items": null,
            "left": null,
            "margin": null,
            "max_height": null,
            "max_width": null,
            "min_height": null,
            "min_width": null,
            "object_fit": null,
            "object_position": null,
            "order": null,
            "overflow": null,
            "overflow_x": null,
            "overflow_y": null,
            "padding": null,
            "right": null,
            "top": null,
            "visibility": null,
            "width": null
          }
        },
        "046e2298b2654cb59c286a7324bcebb0": {
          "model_module": "@jupyter-widgets/controls",
          "model_name": "DescriptionStyleModel",
          "model_module_version": "1.5.0",
          "state": {
            "_model_module": "@jupyter-widgets/controls",
            "_model_module_version": "1.5.0",
            "_model_name": "DescriptionStyleModel",
            "_view_count": null,
            "_view_module": "@jupyter-widgets/base",
            "_view_module_version": "1.2.0",
            "_view_name": "StyleView",
            "description_width": ""
          }
        },
        "2d5bcf6a30ec443f883d5e67b216606e": {
          "model_module": "@jupyter-widgets/base",
          "model_name": "LayoutModel",
          "model_module_version": "1.2.0",
          "state": {
            "_model_module": "@jupyter-widgets/base",
            "_model_module_version": "1.2.0",
            "_model_name": "LayoutModel",
            "_view_count": null,
            "_view_module": "@jupyter-widgets/base",
            "_view_module_version": "1.2.0",
            "_view_name": "LayoutView",
            "align_content": null,
            "align_items": null,
            "align_self": null,
            "border": null,
            "bottom": null,
            "display": null,
            "flex": null,
            "flex_flow": null,
            "grid_area": null,
            "grid_auto_columns": null,
            "grid_auto_flow": null,
            "grid_auto_rows": null,
            "grid_column": null,
            "grid_gap": null,
            "grid_row": null,
            "grid_template_areas": null,
            "grid_template_columns": null,
            "grid_template_rows": null,
            "height": null,
            "justify_content": null,
            "justify_items": null,
            "left": null,
            "margin": null,
            "max_height": null,
            "max_width": null,
            "min_height": null,
            "min_width": null,
            "object_fit": null,
            "object_position": null,
            "order": null,
            "overflow": null,
            "overflow_x": null,
            "overflow_y": null,
            "padding": null,
            "right": null,
            "top": null,
            "visibility": null,
            "width": null
          }
        },
        "4c4f8093c2d1488b9fd1892bcaeae0d3": {
          "model_module": "@jupyter-widgets/controls",
          "model_name": "ProgressStyleModel",
          "model_module_version": "1.5.0",
          "state": {
            "_model_module": "@jupyter-widgets/controls",
            "_model_module_version": "1.5.0",
            "_model_name": "ProgressStyleModel",
            "_view_count": null,
            "_view_module": "@jupyter-widgets/base",
            "_view_module_version": "1.2.0",
            "_view_name": "StyleView",
            "bar_color": null,
            "description_width": ""
          }
        },
        "aa854bbfa08e40709656ca565dc66395": {
          "model_module": "@jupyter-widgets/base",
          "model_name": "LayoutModel",
          "model_module_version": "1.2.0",
          "state": {
            "_model_module": "@jupyter-widgets/base",
            "_model_module_version": "1.2.0",
            "_model_name": "LayoutModel",
            "_view_count": null,
            "_view_module": "@jupyter-widgets/base",
            "_view_module_version": "1.2.0",
            "_view_name": "LayoutView",
            "align_content": null,
            "align_items": null,
            "align_self": null,
            "border": null,
            "bottom": null,
            "display": null,
            "flex": null,
            "flex_flow": null,
            "grid_area": null,
            "grid_auto_columns": null,
            "grid_auto_flow": null,
            "grid_auto_rows": null,
            "grid_column": null,
            "grid_gap": null,
            "grid_row": null,
            "grid_template_areas": null,
            "grid_template_columns": null,
            "grid_template_rows": null,
            "height": null,
            "justify_content": null,
            "justify_items": null,
            "left": null,
            "margin": null,
            "max_height": null,
            "max_width": null,
            "min_height": null,
            "min_width": null,
            "object_fit": null,
            "object_position": null,
            "order": null,
            "overflow": null,
            "overflow_x": null,
            "overflow_y": null,
            "padding": null,
            "right": null,
            "top": null,
            "visibility": null,
            "width": null
          }
        },
        "ca92e7a44bcc4f69948217cc85b82f9c": {
          "model_module": "@jupyter-widgets/controls",
          "model_name": "DescriptionStyleModel",
          "model_module_version": "1.5.0",
          "state": {
            "_model_module": "@jupyter-widgets/controls",
            "_model_module_version": "1.5.0",
            "_model_name": "DescriptionStyleModel",
            "_view_count": null,
            "_view_module": "@jupyter-widgets/base",
            "_view_module_version": "1.2.0",
            "_view_name": "StyleView",
            "description_width": ""
          }
        }
      }
    }
  },
  "cells": [
    {
      "cell_type": "code",
      "execution_count": 1,
      "metadata": {
        "colab": {
          "base_uri": "https://localhost:8080/"
        },
        "id": "RMMQuRvE26_g",
        "outputId": "49a2c3b5-c27e-4498-c3b4-4209e555e93c"
      },
      "outputs": [
        {
          "output_type": "stream",
          "name": "stdout",
          "text": [
            "Mounted at /content/drive\n"
          ]
        }
      ],
      "source": [
        "from google.colab import drive\n",
        "drive.mount('/content/drive')"
      ]
    },
    {
      "cell_type": "code",
      "source": [
        "repository_path='/content/drive/MyDrive/'\n",
        "folder='DACON/'  #DACON 연구실 이미지 연습\n",
        "title='서울 랜드마크 분류/서울 분류 데이터/'"
      ],
      "metadata": {
        "id": "OLr98-sw3BXe"
      },
      "execution_count": 2,
      "outputs": []
    },
    {
      "cell_type": "code",
      "source": [
        "full_path=repository_path+folder+title"
      ],
      "metadata": {
        "id": "J8T2A66M9vtV"
      },
      "execution_count": 4,
      "outputs": []
    },
    {
      "cell_type": "code",
      "source": [
        "import numpy as np\n",
        "import pandas as pd\n",
        "import matplotlib.pyplot as plt\n",
        "\n",
        "from glob import glob\n",
        "from tqdm import tqdm\n",
        "import tensorflow as tf\n",
        "from sklearn.model_selection import train_test_split\n",
        "from tensorflow.keras.layers import *\n",
        "from tensorflow.keras.callbacks import *\n",
        "from tensorflow.keras.applications import *"
      ],
      "metadata": {
        "id": "2QrmdXjF3Viv"
      },
      "execution_count": 5,
      "outputs": []
    },
    {
      "cell_type": "markdown",
      "source": [
        "Dataset은 샘플과 정답(label)을 저장, DataLoader은 Dataset을 순회 가능한 객체로 감싼다"
      ],
      "metadata": {
        "id": "wT0wHz-n-Qwm"
      }
    },
    {
      "cell_type": "code",
      "source": [
        "import torch\n",
        "from torch import nn\n",
        "from torch.utils.data import DataLoader\n",
        "from torchvision import datasets\n",
        "from torchvision.transforms import ToTensor"
      ],
      "metadata": {
        "id": "VPIammxz90Fc"
      },
      "execution_count": 6,
      "outputs": []
    },
    {
      "cell_type": "markdown",
      "source": [
        "# 데이터 다운로드"
      ],
      "metadata": {
        "id": "6XNmp1sq-dw1"
      }
    },
    {
      "cell_type": "code",
      "source": [
        "training_data=datasets.FashionMNIST(\n",
        "    root='data',\n",
        "    train=True,\n",
        "    download=True,\n",
        "    transform=ToTensor(),\n",
        ")"
      ],
      "metadata": {
        "colab": {
          "base_uri": "https://localhost:8080/",
          "height": 439,
          "referenced_widgets": [
            "88285df091aa44909d9b45a02f900d5b",
            "a06f878115c24d36a4d0a44108898637",
            "8961256ae7a344f5a62e2b9982b88f57",
            "a07d939cf0a940c380d765c723be4e80",
            "154208aa95cd495f9211bc9425f017c3",
            "25b230be7faf4e2b873fd2d2d299c304",
            "ff405b77d183459282c161d0258c8e50",
            "fc20d7be7fc54e3eb24431984bc14c26",
            "325a225146964b27b061930f66bea391",
            "4651e0f44fc94a7395c5f8e205340aea",
            "96273ff7ac3040ae92dca4870e2c5604",
            "e70bcd69ac5445ad9a0bf462f301c36a",
            "dc901a7876eb4615b75260979dd51e23",
            "4fc08398734944a4b68c5b6b690e2d35",
            "6d22847d88374feda8f5bd24c15544f9",
            "1e6acd934791411dbfc1c561cf3d83f5",
            "6427270e63fd4e3b9f4a15c2ea278f6e",
            "f579c958726140e987e89607ff716845",
            "95e16fad247041799b8b2b667bca0c71",
            "2d33f8f1f1de4d969e15b416111c250c",
            "4f9cd0a76430432780dac5508e7df45b",
            "025eb894e428469699c3f7585e14fb8c",
            "a7a8095a7fa54fd98aa436ef443529fb",
            "82c4602f6198432da3a11639144eb68e",
            "25e9750942b649e68b159efa6a40c620",
            "cf356888860d42b4a48e9616924ce222",
            "5cdae9ceeb0f45a580e8d796f291f472",
            "0a233c4f9a9d42c7a5d946ef109d6f29",
            "19e6741fa9534a87a6c4b079b9c0c5e3",
            "c972ad424a034252844142ed807e0caf",
            "e3a988ad181243ce96575110822be66c",
            "3e7f798c9f374cb197c4802d4185b248",
            "bffe979a32934757a48361ed5cf3175b",
            "1276d592f14a4805918187a0437993be",
            "7f1430123c394d3ba7bb5b7feeb1a327",
            "e540f7dd3e2f444e8efeb19ee3161261",
            "55fb646cb0614aadaf5f440a9590b2d0",
            "1f2eec296aad49e3bf3cf60ed7093143",
            "3fd5d91eac424ee1b4c5d197681639ec",
            "046e2298b2654cb59c286a7324bcebb0",
            "2d5bcf6a30ec443f883d5e67b216606e",
            "4c4f8093c2d1488b9fd1892bcaeae0d3",
            "aa854bbfa08e40709656ca565dc66395",
            "ca92e7a44bcc4f69948217cc85b82f9c"
          ]
        },
        "id": "CSualN9O-e9z",
        "outputId": "022049bc-e6c1-41cd-f5df-6f5a44dc2552"
      },
      "execution_count": 7,
      "outputs": [
        {
          "output_type": "stream",
          "name": "stdout",
          "text": [
            "Downloading http://fashion-mnist.s3-website.eu-central-1.amazonaws.com/train-images-idx3-ubyte.gz\n",
            "Downloading http://fashion-mnist.s3-website.eu-central-1.amazonaws.com/train-images-idx3-ubyte.gz to data/FashionMNIST/raw/train-images-idx3-ubyte.gz\n"
          ]
        },
        {
          "output_type": "display_data",
          "data": {
            "text/plain": [
              "  0%|          | 0/26421880 [00:00<?, ?it/s]"
            ],
            "application/vnd.jupyter.widget-view+json": {
              "version_major": 2,
              "version_minor": 0,
              "model_id": "88285df091aa44909d9b45a02f900d5b"
            }
          },
          "metadata": {}
        },
        {
          "output_type": "stream",
          "name": "stdout",
          "text": [
            "Extracting data/FashionMNIST/raw/train-images-idx3-ubyte.gz to data/FashionMNIST/raw\n",
            "\n",
            "Downloading http://fashion-mnist.s3-website.eu-central-1.amazonaws.com/train-labels-idx1-ubyte.gz\n",
            "Downloading http://fashion-mnist.s3-website.eu-central-1.amazonaws.com/train-labels-idx1-ubyte.gz to data/FashionMNIST/raw/train-labels-idx1-ubyte.gz\n"
          ]
        },
        {
          "output_type": "display_data",
          "data": {
            "text/plain": [
              "  0%|          | 0/29515 [00:00<?, ?it/s]"
            ],
            "application/vnd.jupyter.widget-view+json": {
              "version_major": 2,
              "version_minor": 0,
              "model_id": "e70bcd69ac5445ad9a0bf462f301c36a"
            }
          },
          "metadata": {}
        },
        {
          "output_type": "stream",
          "name": "stdout",
          "text": [
            "Extracting data/FashionMNIST/raw/train-labels-idx1-ubyte.gz to data/FashionMNIST/raw\n",
            "\n",
            "Downloading http://fashion-mnist.s3-website.eu-central-1.amazonaws.com/t10k-images-idx3-ubyte.gz\n",
            "Downloading http://fashion-mnist.s3-website.eu-central-1.amazonaws.com/t10k-images-idx3-ubyte.gz to data/FashionMNIST/raw/t10k-images-idx3-ubyte.gz\n"
          ]
        },
        {
          "output_type": "display_data",
          "data": {
            "text/plain": [
              "  0%|          | 0/4422102 [00:00<?, ?it/s]"
            ],
            "application/vnd.jupyter.widget-view+json": {
              "version_major": 2,
              "version_minor": 0,
              "model_id": "a7a8095a7fa54fd98aa436ef443529fb"
            }
          },
          "metadata": {}
        },
        {
          "output_type": "stream",
          "name": "stdout",
          "text": [
            "Extracting data/FashionMNIST/raw/t10k-images-idx3-ubyte.gz to data/FashionMNIST/raw\n",
            "\n",
            "Downloading http://fashion-mnist.s3-website.eu-central-1.amazonaws.com/t10k-labels-idx1-ubyte.gz\n",
            "Downloading http://fashion-mnist.s3-website.eu-central-1.amazonaws.com/t10k-labels-idx1-ubyte.gz to data/FashionMNIST/raw/t10k-labels-idx1-ubyte.gz\n"
          ]
        },
        {
          "output_type": "display_data",
          "data": {
            "text/plain": [
              "  0%|          | 0/5148 [00:00<?, ?it/s]"
            ],
            "application/vnd.jupyter.widget-view+json": {
              "version_major": 2,
              "version_minor": 0,
              "model_id": "1276d592f14a4805918187a0437993be"
            }
          },
          "metadata": {}
        },
        {
          "output_type": "stream",
          "name": "stdout",
          "text": [
            "Extracting data/FashionMNIST/raw/t10k-labels-idx1-ubyte.gz to data/FashionMNIST/raw\n",
            "\n"
          ]
        }
      ]
    },
    {
      "cell_type": "code",
      "source": [
        "test_data=datasets.FashionMNIST(\n",
        "    root='data',\n",
        "    train=False,\n",
        "    download=True,\n",
        "    transform=ToTensor(),\n",
        ")"
      ],
      "metadata": {
        "id": "bJKR4un2-qiE"
      },
      "execution_count": 8,
      "outputs": []
    },
    {
      "cell_type": "code",
      "source": [
        ", dataloader\n",
        "batch_size=64\n",
        "\n",
        "train_dataloader=DataLoader(training_data, batch_size=batch_size)\n",
        "test_dataloader=DataLoader(test_data, batch_size=batch_size)\n",
        "\n",
        "for X,y in test_dataloader:\n",
        "    print(X.shape)\n",
        "    print(y.dtype)"
      ],
      "metadata": {
        "colab": {
          "base_uri": "https://localhost:8080/"
        },
        "id": "t1bmk8Xg-0jr",
        "outputId": "bc58e021-2d7a-44dd-eb12-961579ecfed9"
      },
      "execution_count": 10,
      "outputs": [
        {
          "output_type": "stream",
          "name": "stdout",
          "text": [
            "torch.Size([64, 1, 28, 28])\n",
            "torch.int64\n",
            "torch.Size([64, 1, 28, 28])\n",
            "torch.int64\n",
            "torch.Size([64, 1, 28, 28])\n",
            "torch.int64\n",
            "torch.Size([64, 1, 28, 28])\n",
            "torch.int64\n",
            "torch.Size([64, 1, 28, 28])\n",
            "torch.int64\n",
            "torch.Size([64, 1, 28, 28])\n",
            "torch.int64\n",
            "torch.Size([64, 1, 28, 28])\n",
            "torch.int64\n",
            "torch.Size([64, 1, 28, 28])\n",
            "torch.int64\n",
            "torch.Size([64, 1, 28, 28])\n",
            "torch.int64\n",
            "torch.Size([64, 1, 28, 28])\n",
            "torch.int64\n",
            "torch.Size([64, 1, 28, 28])\n",
            "torch.int64\n",
            "torch.Size([64, 1, 28, 28])\n",
            "torch.int64\n",
            "torch.Size([64, 1, 28, 28])\n",
            "torch.int64\n",
            "torch.Size([64, 1, 28, 28])\n",
            "torch.int64\n",
            "torch.Size([64, 1, 28, 28])\n",
            "torch.int64\n",
            "torch.Size([64, 1, 28, 28])\n",
            "torch.int64\n",
            "torch.Size([64, 1, 28, 28])\n",
            "torch.int64\n",
            "torch.Size([64, 1, 28, 28])\n",
            "torch.int64\n",
            "torch.Size([64, 1, 28, 28])\n",
            "torch.int64\n",
            "torch.Size([64, 1, 28, 28])\n",
            "torch.int64\n",
            "torch.Size([64, 1, 28, 28])\n",
            "torch.int64\n",
            "torch.Size([64, 1, 28, 28])\n",
            "torch.int64\n",
            "torch.Size([64, 1, 28, 28])\n",
            "torch.int64\n",
            "torch.Size([64, 1, 28, 28])\n",
            "torch.int64\n",
            "torch.Size([64, 1, 28, 28])\n",
            "torch.int64\n",
            "torch.Size([64, 1, 28, 28])\n",
            "torch.int64\n",
            "torch.Size([64, 1, 28, 28])\n",
            "torch.int64\n",
            "torch.Size([64, 1, 28, 28])\n",
            "torch.int64\n",
            "torch.Size([64, 1, 28, 28])\n",
            "torch.int64\n",
            "torch.Size([64, 1, 28, 28])\n",
            "torch.int64\n",
            "torch.Size([64, 1, 28, 28])\n",
            "torch.int64\n",
            "torch.Size([64, 1, 28, 28])\n",
            "torch.int64\n",
            "torch.Size([64, 1, 28, 28])\n",
            "torch.int64\n",
            "torch.Size([64, 1, 28, 28])\n",
            "torch.int64\n",
            "torch.Size([64, 1, 28, 28])\n",
            "torch.int64\n",
            "torch.Size([64, 1, 28, 28])\n",
            "torch.int64\n",
            "torch.Size([64, 1, 28, 28])\n",
            "torch.int64\n",
            "torch.Size([64, 1, 28, 28])\n",
            "torch.int64\n",
            "torch.Size([64, 1, 28, 28])\n",
            "torch.int64\n",
            "torch.Size([64, 1, 28, 28])\n",
            "torch.int64\n",
            "torch.Size([64, 1, 28, 28])\n",
            "torch.int64\n",
            "torch.Size([64, 1, 28, 28])\n",
            "torch.int64\n",
            "torch.Size([64, 1, 28, 28])\n",
            "torch.int64\n",
            "torch.Size([64, 1, 28, 28])\n",
            "torch.int64\n",
            "torch.Size([64, 1, 28, 28])\n",
            "torch.int64\n",
            "torch.Size([64, 1, 28, 28])\n",
            "torch.int64\n",
            "torch.Size([64, 1, 28, 28])\n",
            "torch.int64\n",
            "torch.Size([64, 1, 28, 28])\n",
            "torch.int64\n",
            "torch.Size([64, 1, 28, 28])\n",
            "torch.int64\n",
            "torch.Size([64, 1, 28, 28])\n",
            "torch.int64\n",
            "torch.Size([64, 1, 28, 28])\n",
            "torch.int64\n",
            "torch.Size([64, 1, 28, 28])\n",
            "torch.int64\n",
            "torch.Size([64, 1, 28, 28])\n",
            "torch.int64\n",
            "torch.Size([64, 1, 28, 28])\n",
            "torch.int64\n",
            "torch.Size([64, 1, 28, 28])\n",
            "torch.int64\n",
            "torch.Size([64, 1, 28, 28])\n",
            "torch.int64\n",
            "torch.Size([64, 1, 28, 28])\n",
            "torch.int64\n",
            "torch.Size([64, 1, 28, 28])\n",
            "torch.int64\n",
            "torch.Size([64, 1, 28, 28])\n",
            "torch.int64\n",
            "torch.Size([64, 1, 28, 28])\n",
            "torch.int64\n",
            "torch.Size([64, 1, 28, 28])\n",
            "torch.int64\n",
            "torch.Size([64, 1, 28, 28])\n",
            "torch.int64\n",
            "torch.Size([64, 1, 28, 28])\n",
            "torch.int64\n",
            "torch.Size([64, 1, 28, 28])\n",
            "torch.int64\n",
            "torch.Size([64, 1, 28, 28])\n",
            "torch.int64\n",
            "torch.Size([64, 1, 28, 28])\n",
            "torch.int64\n",
            "torch.Size([64, 1, 28, 28])\n",
            "torch.int64\n",
            "torch.Size([64, 1, 28, 28])\n",
            "torch.int64\n",
            "torch.Size([64, 1, 28, 28])\n",
            "torch.int64\n",
            "torch.Size([64, 1, 28, 28])\n",
            "torch.int64\n",
            "torch.Size([64, 1, 28, 28])\n",
            "torch.int64\n",
            "torch.Size([64, 1, 28, 28])\n",
            "torch.int64\n",
            "torch.Size([64, 1, 28, 28])\n",
            "torch.int64\n",
            "torch.Size([64, 1, 28, 28])\n",
            "torch.int64\n",
            "torch.Size([64, 1, 28, 28])\n",
            "torch.int64\n",
            "torch.Size([64, 1, 28, 28])\n",
            "torch.int64\n",
            "torch.Size([64, 1, 28, 28])\n",
            "torch.int64\n",
            "torch.Size([64, 1, 28, 28])\n",
            "torch.int64\n",
            "torch.Size([64, 1, 28, 28])\n",
            "torch.int64\n",
            "torch.Size([64, 1, 28, 28])\n",
            "torch.int64\n",
            "torch.Size([64, 1, 28, 28])\n",
            "torch.int64\n",
            "torch.Size([64, 1, 28, 28])\n",
            "torch.int64\n",
            "torch.Size([64, 1, 28, 28])\n",
            "torch.int64\n",
            "torch.Size([64, 1, 28, 28])\n",
            "torch.int64\n",
            "torch.Size([64, 1, 28, 28])\n",
            "torch.int64\n",
            "torch.Size([64, 1, 28, 28])\n",
            "torch.int64\n",
            "torch.Size([64, 1, 28, 28])\n",
            "torch.int64\n",
            "torch.Size([64, 1, 28, 28])\n",
            "torch.int64\n",
            "torch.Size([64, 1, 28, 28])\n",
            "torch.int64\n",
            "torch.Size([64, 1, 28, 28])\n",
            "torch.int64\n",
            "torch.Size([64, 1, 28, 28])\n",
            "torch.int64\n",
            "torch.Size([64, 1, 28, 28])\n",
            "torch.int64\n",
            "torch.Size([64, 1, 28, 28])\n",
            "torch.int64\n",
            "torch.Size([64, 1, 28, 28])\n",
            "torch.int64\n",
            "torch.Size([64, 1, 28, 28])\n",
            "torch.int64\n",
            "torch.Size([64, 1, 28, 28])\n",
            "torch.int64\n",
            "torch.Size([64, 1, 28, 28])\n",
            "torch.int64\n",
            "torch.Size([64, 1, 28, 28])\n",
            "torch.int64\n",
            "torch.Size([64, 1, 28, 28])\n",
            "torch.int64\n",
            "torch.Size([64, 1, 28, 28])\n",
            "torch.int64\n",
            "torch.Size([64, 1, 28, 28])\n",
            "torch.int64\n",
            "torch.Size([64, 1, 28, 28])\n",
            "torch.int64\n",
            "torch.Size([64, 1, 28, 28])\n",
            "torch.int64\n",
            "torch.Size([64, 1, 28, 28])\n",
            "torch.int64\n",
            "torch.Size([64, 1, 28, 28])\n",
            "torch.int64\n",
            "torch.Size([64, 1, 28, 28])\n",
            "torch.int64\n",
            "torch.Size([64, 1, 28, 28])\n",
            "torch.int64\n",
            "torch.Size([64, 1, 28, 28])\n",
            "torch.int64\n",
            "torch.Size([64, 1, 28, 28])\n",
            "torch.int64\n",
            "torch.Size([64, 1, 28, 28])\n",
            "torch.int64\n",
            "torch.Size([64, 1, 28, 28])\n",
            "torch.int64\n",
            "torch.Size([64, 1, 28, 28])\n",
            "torch.int64\n",
            "torch.Size([64, 1, 28, 28])\n",
            "torch.int64\n",
            "torch.Size([64, 1, 28, 28])\n",
            "torch.int64\n",
            "torch.Size([64, 1, 28, 28])\n",
            "torch.int64\n",
            "torch.Size([64, 1, 28, 28])\n",
            "torch.int64\n",
            "torch.Size([64, 1, 28, 28])\n",
            "torch.int64\n",
            "torch.Size([64, 1, 28, 28])\n",
            "torch.int64\n",
            "torch.Size([64, 1, 28, 28])\n",
            "torch.int64\n",
            "torch.Size([64, 1, 28, 28])\n",
            "torch.int64\n",
            "torch.Size([64, 1, 28, 28])\n",
            "torch.int64\n",
            "torch.Size([64, 1, 28, 28])\n",
            "torch.int64\n",
            "torch.Size([64, 1, 28, 28])\n",
            "torch.int64\n",
            "torch.Size([64, 1, 28, 28])\n",
            "torch.int64\n",
            "torch.Size([64, 1, 28, 28])\n",
            "torch.int64\n",
            "torch.Size([64, 1, 28, 28])\n",
            "torch.int64\n",
            "torch.Size([64, 1, 28, 28])\n",
            "torch.int64\n",
            "torch.Size([64, 1, 28, 28])\n",
            "torch.int64\n",
            "torch.Size([64, 1, 28, 28])\n",
            "torch.int64\n",
            "torch.Size([64, 1, 28, 28])\n",
            "torch.int64\n",
            "torch.Size([64, 1, 28, 28])\n",
            "torch.int64\n",
            "torch.Size([64, 1, 28, 28])\n",
            "torch.int64\n",
            "torch.Size([64, 1, 28, 28])\n",
            "torch.int64\n",
            "torch.Size([64, 1, 28, 28])\n",
            "torch.int64\n",
            "torch.Size([64, 1, 28, 28])\n",
            "torch.int64\n",
            "torch.Size([64, 1, 28, 28])\n",
            "torch.int64\n",
            "torch.Size([64, 1, 28, 28])\n",
            "torch.int64\n",
            "torch.Size([64, 1, 28, 28])\n",
            "torch.int64\n",
            "torch.Size([64, 1, 28, 28])\n",
            "torch.int64\n",
            "torch.Size([64, 1, 28, 28])\n",
            "torch.int64\n",
            "torch.Size([64, 1, 28, 28])\n",
            "torch.int64\n",
            "torch.Size([64, 1, 28, 28])\n",
            "torch.int64\n",
            "torch.Size([64, 1, 28, 28])\n",
            "torch.int64\n",
            "torch.Size([64, 1, 28, 28])\n",
            "torch.int64\n",
            "torch.Size([64, 1, 28, 28])\n",
            "torch.int64\n",
            "torch.Size([64, 1, 28, 28])\n",
            "torch.int64\n",
            "torch.Size([64, 1, 28, 28])\n",
            "torch.int64\n",
            "torch.Size([64, 1, 28, 28])\n",
            "torch.int64\n",
            "torch.Size([64, 1, 28, 28])\n",
            "torch.int64\n",
            "torch.Size([64, 1, 28, 28])\n",
            "torch.int64\n",
            "torch.Size([64, 1, 28, 28])\n",
            "torch.int64\n",
            "torch.Size([64, 1, 28, 28])\n",
            "torch.int64\n",
            "torch.Size([64, 1, 28, 28])\n",
            "torch.int64\n",
            "torch.Size([64, 1, 28, 28])\n",
            "torch.int64\n",
            "torch.Size([64, 1, 28, 28])\n",
            "torch.int64\n",
            "torch.Size([64, 1, 28, 28])\n",
            "torch.int64\n",
            "torch.Size([16, 1, 28, 28])\n",
            "torch.int64\n"
          ]
        }
      ]
    },
    {
      "cell_type": "markdown",
      "source": [
        "# 모델 만들기"
      ],
      "metadata": {
        "id": "41UF7AUJAOkF"
      }
    },
    {
      "cell_type": "code",
      "source": [
        "device='cuda' if torch.cuda.is_available() else \"cpu\"\n",
        "print(f'using {device} device')"
      ],
      "metadata": {
        "colab": {
          "base_uri": "https://localhost:8080/"
        },
        "id": "Q7y3Lvkx--Ur",
        "outputId": "455c4124-2d9f-45a7-8a98-ced573ab91c3"
      },
      "execution_count": 11,
      "outputs": [
        {
          "output_type": "stream",
          "name": "stdout",
          "text": [
            "using cpu device\n"
          ]
        }
      ]
    },
    {
      "cell_type": "code",
      "source": [
        "class NeuralNetwork(nn.Module):\n",
        "    def __init__(self):\n",
        "        super(NeuralNetwork,self).__init__()\n",
        "        self.flatten=nn.Flatten()\n",
        "        self.linear_relu_stack=nn.Sequential(\n",
        "            nn.Linear(28*28, 512),\n",
        "            nn.ReLU(),\n",
        "            nn.Linear(512, 512),\n",
        "            nn.ReLU(),\n",
        "            nn.Linear(512, 10)\n",
        "        )\n",
        "\n",
        "    def forward(self, x):\n",
        "        x=self.flatten(x)\n",
        "        logits=self.linear_relu_stack(x)\n",
        "        return logits\n",
        "\n",
        "model=NeuralNetwork().to(device)\n",
        "print(model)"
      ],
      "metadata": {
        "colab": {
          "base_uri": "https://localhost:8080/"
        },
        "id": "TH_e4eHqAY8j",
        "outputId": "63eddafb-b873-4181-ef18-bed917f54b4b"
      },
      "execution_count": 13,
      "outputs": [
        {
          "output_type": "stream",
          "name": "stdout",
          "text": [
            "NeuralNetwork(\n",
            "  (flatten): Flatten(start_dim=1, end_dim=-1)\n",
            "  (linear_relu_stack): Sequential(\n",
            "    (0): Linear(in_features=784, out_features=512, bias=True)\n",
            "    (1): ReLU()\n",
            "    (2): Linear(in_features=512, out_features=512, bias=True)\n",
            "    (3): ReLU()\n",
            "    (4): Linear(in_features=512, out_features=10, bias=True)\n",
            "  )\n",
            ")\n"
          ]
        }
      ]
    },
    {
      "cell_type": "code",
      "source": [
        "X=torch.rand(1,28,28, device=device)\n",
        "logits=model(X)\n",
        "pred_probab=nn.Softmax(dim=1)(logits)\n",
        "y_pred=pred_probab.argmax(1)\n",
        "print(y_pred)"
      ],
      "metadata": {
        "colab": {
          "base_uri": "https://localhost:8080/"
        },
        "id": "NFE5rI8cBN0q",
        "outputId": "f0ff2647-639f-46d3-ba69-ec322c760d15"
      },
      "execution_count": 14,
      "outputs": [
        {
          "output_type": "stream",
          "name": "stdout",
          "text": [
            "tensor([4])\n"
          ]
        }
      ]
    },
    {
      "cell_type": "markdown",
      "source": [
        "## 모델 계층(Layer)"
      ],
      "metadata": {
        "id": "rsi0Xi8EDAq1"
      }
    },
    {
      "cell_type": "code",
      "source": [
        "input_image=torch.rand(3,28,28)\n",
        "print(input_image.size())"
      ],
      "metadata": {
        "colab": {
          "base_uri": "https://localhost:8080/"
        },
        "id": "gDM8hBT3C3Cj",
        "outputId": "8281e1d9-d300-4b12-9f59-f72c39d7cc44"
      },
      "execution_count": 15,
      "outputs": [
        {
          "output_type": "stream",
          "name": "stdout",
          "text": [
            "torch.Size([3, 28, 28])\n"
          ]
        }
      ]
    },
    {
      "cell_type": "markdown",
      "source": [
        "## nn.Flatten"
      ],
      "metadata": {
        "id": "0ry6X8NADKXT"
      }
    },
    {
      "cell_type": "code",
      "source": [
        "flatten=nn.Flatten() #연속된 배열 출력\n",
        "flat_image=flatten(input_image)\n",
        "print(flat_image.size())"
      ],
      "metadata": {
        "colab": {
          "base_uri": "https://localhost:8080/"
        },
        "id": "4mUOn0wJDMXp",
        "outputId": "f063681f-43af-4e7c-b533-96217a29d692"
      },
      "execution_count": 16,
      "outputs": [
        {
          "output_type": "stream",
          "name": "stdout",
          "text": [
            "torch.Size([3, 784])\n"
          ]
        }
      ]
    },
    {
      "cell_type": "markdown",
      "source": [
        "## nn.Linear"
      ],
      "metadata": {
        "id": "ELaAGnuJDjul"
      }
    },
    {
      "cell_type": "markdown",
      "source": [
        "선형 계층은 저장된 가중치와 편향을 사용하여 입력에 선형 변환을 적용하는 모듈"
      ],
      "metadata": {
        "id": "uFivoufdD0fa"
      }
    },
    {
      "cell_type": "code",
      "source": [
        "layer1=nn.Linear(in_features=28*28, out_features=20)\n",
        "hidden1=layer1(flat_image)\n",
        "print(hidden1.size())"
      ],
      "metadata": {
        "colab": {
          "base_uri": "https://localhost:8080/"
        },
        "id": "FFm5nkkgDi_Z",
        "outputId": "af3c7898-35eb-4ca1-d874-4c756f12913c"
      },
      "execution_count": 17,
      "outputs": [
        {
          "output_type": "stream",
          "name": "stdout",
          "text": [
            "torch.Size([3, 20])\n"
          ]
        }
      ]
    },
    {
      "cell_type": "markdown",
      "source": [
        "## nn.ReLU"
      ],
      "metadata": {
        "id": "LhLOdMhJDv7a"
      }
    },
    {
      "cell_type": "markdown",
      "source": [
        "비선형 활성화 함수는 선형 변환 후에 적용되어 비선형성을 도입하고, 신경망이 다양한 형상을 학습할 수 있도록 돕는다. "
      ],
      "metadata": {
        "id": "1m5ijZ3qD63D"
      }
    },
    {
      "cell_type": "code",
      "source": [
        "print(f'Before ReLU : {hidden1}\\n\\n')\n",
        "hidden1=nn.ReLU()(hidden1)\n",
        "print(f'After ReLU : {hidden1}')"
      ],
      "metadata": {
        "colab": {
          "base_uri": "https://localhost:8080/"
        },
        "id": "7v8cXmkzDvDZ",
        "outputId": "7575c9bc-0e9c-4e68-a1ed-3dde5fb0f670"
      },
      "execution_count": 18,
      "outputs": [
        {
          "output_type": "stream",
          "name": "stdout",
          "text": [
            "Before ReLU : tensor([[-0.0415, -0.3472, -0.2516,  0.8037,  0.4404,  0.1487,  0.3140, -0.2084,\n",
            "          0.1419,  0.4907, -0.3692,  0.0121, -0.3167,  0.3089,  0.0594, -0.1469,\n",
            "         -0.3821, -0.6441, -0.0052, -0.5186],\n",
            "        [-0.0427, -0.4511,  0.1400,  0.6941,  0.7789,  0.3226,  0.1535, -0.4411,\n",
            "          0.3949,  0.2651, -0.1885, -0.0375, -0.1703, -0.1008,  0.3061,  0.1003,\n",
            "         -0.2292, -0.7579, -0.2366, -0.4208],\n",
            "        [ 0.3301, -0.1053,  0.1633,  0.6930,  0.6977,  0.0590, -0.0256, -0.1289,\n",
            "         -0.0252, -0.1621, -0.3020, -0.5358, -0.0237,  0.2372, -0.0245,  0.6475,\n",
            "         -0.1881, -0.5784, -0.1660, -0.6569]], grad_fn=<AddmmBackward0>)\n",
            "\n",
            "\n",
            "After ReLU : tensor([[0.0000, 0.0000, 0.0000, 0.8037, 0.4404, 0.1487, 0.3140, 0.0000, 0.1419,\n",
            "         0.4907, 0.0000, 0.0121, 0.0000, 0.3089, 0.0594, 0.0000, 0.0000, 0.0000,\n",
            "         0.0000, 0.0000],\n",
            "        [0.0000, 0.0000, 0.1400, 0.6941, 0.7789, 0.3226, 0.1535, 0.0000, 0.3949,\n",
            "         0.2651, 0.0000, 0.0000, 0.0000, 0.0000, 0.3061, 0.1003, 0.0000, 0.0000,\n",
            "         0.0000, 0.0000],\n",
            "        [0.3301, 0.0000, 0.1633, 0.6930, 0.6977, 0.0590, 0.0000, 0.0000, 0.0000,\n",
            "         0.0000, 0.0000, 0.0000, 0.0000, 0.2372, 0.0000, 0.6475, 0.0000, 0.0000,\n",
            "         0.0000, 0.0000]], grad_fn=<ReluBackward0>)\n"
          ]
        }
      ]
    },
    {
      "cell_type": "markdown",
      "source": [
        "## nn.Sequential"
      ],
      "metadata": {
        "id": "FRLQxwUjETfc"
      }
    },
    {
      "cell_type": "markdown",
      "source": [
        "nn.Sequential은 순서를 갖는 모듈의 컨테이너"
      ],
      "metadata": {
        "id": "dWjxNSuZEhLC"
      }
    },
    {
      "cell_type": "code",
      "source": [
        "seq_modules=nn.Sequential(\n",
        "    flatten,\n",
        "    layer1,\n",
        "    nn.ReLU(),\n",
        "    nn.Linear(20,10)\n",
        ")\n",
        "\n",
        "input_image=torch.rand(3,28,28)\n",
        "logits=seq_modules(input_image)"
      ],
      "metadata": {
        "id": "Enr8YOxMEOwh"
      },
      "execution_count": 19,
      "outputs": []
    },
    {
      "cell_type": "markdown",
      "source": [
        "## nn.Softmax"
      ],
      "metadata": {
        "id": "3Il_1kh7Elzz"
      }
    },
    {
      "cell_type": "markdown",
      "source": [
        "모델의 각 분류에 대한 예측 확률을 나타내도록 [0,1] 범위로 비례하여 조정"
      ],
      "metadata": {
        "id": "M4t8-SyhEoNT"
      }
    },
    {
      "cell_type": "code",
      "source": [
        "softmax=nn.Softmax(dim=1)\n",
        "pred_probab=softmax(logits)"
      ],
      "metadata": {
        "id": "ihrePcrSEfwa"
      },
      "execution_count": 20,
      "outputs": []
    },
    {
      "cell_type": "markdown",
      "source": [
        "# 모델 매개변수"
      ],
      "metadata": {
        "id": "xp8oh6EAE4Lr"
      }
    },
    {
      "cell_type": "markdown",
      "source": [
        "신경망 내부의 많은 계층들은 매개변수화 된다."
      ],
      "metadata": {
        "id": "ECpRUbDAE71j"
      }
    },
    {
      "cell_type": "code",
      "source": [
        "print(f'Model structure : {model}\\n\\n')\n",
        "\n",
        "for name, param in model.named_parameters():\n",
        "    print(f'layers : {name} , size {param.size()} , Values : {param[:2]}\\n')"
      ],
      "metadata": {
        "colab": {
          "base_uri": "https://localhost:8080/"
        },
        "id": "SQAoLdDGE0BK",
        "outputId": "66b7d471-5db2-44a1-a5b7-63c035b0ba20"
      },
      "execution_count": 21,
      "outputs": [
        {
          "output_type": "stream",
          "name": "stdout",
          "text": [
            "Model structure : NeuralNetwork(\n",
            "  (flatten): Flatten(start_dim=1, end_dim=-1)\n",
            "  (linear_relu_stack): Sequential(\n",
            "    (0): Linear(in_features=784, out_features=512, bias=True)\n",
            "    (1): ReLU()\n",
            "    (2): Linear(in_features=512, out_features=512, bias=True)\n",
            "    (3): ReLU()\n",
            "    (4): Linear(in_features=512, out_features=10, bias=True)\n",
            "  )\n",
            ")\n",
            "\n",
            "\n",
            "layers : linear_relu_stack.0.weight , size torch.Size([512, 784]) , Values : tensor([[ 0.0046, -0.0150, -0.0302,  ...,  0.0249,  0.0231, -0.0340],\n",
            "        [-0.0046,  0.0032,  0.0101,  ...,  0.0284, -0.0348,  0.0256]],\n",
            "       grad_fn=<SliceBackward0>)\n",
            "\n",
            "layers : linear_relu_stack.0.bias , size torch.Size([512]) , Values : tensor([ 0.0088, -0.0134], grad_fn=<SliceBackward0>)\n",
            "\n",
            "layers : linear_relu_stack.2.weight , size torch.Size([512, 512]) , Values : tensor([[ 0.0277, -0.0117, -0.0016,  ...,  0.0161,  0.0359, -0.0243],\n",
            "        [-0.0106,  0.0370,  0.0207,  ...,  0.0218, -0.0124, -0.0098]],\n",
            "       grad_fn=<SliceBackward0>)\n",
            "\n",
            "layers : linear_relu_stack.2.bias , size torch.Size([512]) , Values : tensor([-0.0256, -0.0147], grad_fn=<SliceBackward0>)\n",
            "\n",
            "layers : linear_relu_stack.4.weight , size torch.Size([10, 512]) , Values : tensor([[ 0.0116,  0.0268,  0.0182,  ..., -0.0374,  0.0327,  0.0439],\n",
            "        [-0.0276,  0.0312, -0.0427,  ..., -0.0090,  0.0343,  0.0313]],\n",
            "       grad_fn=<SliceBackward0>)\n",
            "\n",
            "layers : linear_relu_stack.4.bias , size torch.Size([10]) , Values : tensor([ 0.0068, -0.0076], grad_fn=<SliceBackward0>)\n",
            "\n"
          ]
        }
      ]
    },
    {
      "cell_type": "markdown",
      "source": [
        "# 모델 최적화하기"
      ],
      "metadata": {
        "id": "us7A3GwjHuJa"
      }
    },
    {
      "cell_type": "markdown",
      "source": [
        "## 하이퍼파라미터"
      ],
      "metadata": {
        "id": "_3n39_oHHxFi"
      }
    },
    {
      "cell_type": "code",
      "source": [
        "learning_rate=1e-3\n",
        "batch_size=64\n",
        "epochs=5"
      ],
      "metadata": {
        "id": "Liygvu5cFPOy"
      },
      "execution_count": 22,
      "outputs": []
    },
    {
      "cell_type": "markdown",
      "source": [
        "## 손실 함수"
      ],
      "metadata": {
        "id": "HX-kaoBGH7fK"
      }
    },
    {
      "cell_type": "code",
      "source": [
        "loss_fn=nn.CrossEntropyLoss()"
      ],
      "metadata": {
        "id": "afKQ0FHYH6uK"
      },
      "execution_count": 23,
      "outputs": []
    },
    {
      "cell_type": "markdown",
      "source": [
        "## 옵티마이저"
      ],
      "metadata": {
        "id": "WPKjPIW2IAzr"
      }
    },
    {
      "cell_type": "code",
      "source": [
        "optimizer=torch.optim.SGD(model.parameters(), lr=learning_rate)"
      ],
      "metadata": {
        "id": "Mb_HuTjVH_-6"
      },
      "execution_count": 24,
      "outputs": []
    },
    {
      "cell_type": "markdown",
      "source": [
        "# 전체 구현"
      ],
      "metadata": {
        "id": "lpWH2hN_IKXK"
      }
    },
    {
      "cell_type": "code",
      "source": [
        "def train_loop(dataloader, model, loss_fn, optimizer):\n",
        "    size=len(dataloader.dataset)\n",
        "    for batch, (X,y) in enumerate(dataloader):\n",
        "        # 예측과 손실 계산\n",
        "        pred=model(X)\n",
        "        loss=loss_fn(pred, y)\n",
        "\n",
        "        #역전파\n",
        "        optimizer.zero_grad()\n",
        "        loss.backward()\n",
        "        optimizer.step()\n",
        "\n",
        "        if batch % 100==0:\n",
        "            loss, current=loss.item(), batch*len(X)\n",
        "            print(f'loss : {loss:>7f} [{current:>5d}/{size:>5d}]')\n",
        "\n",
        "\n",
        "def test_loop(dataloader, model,loss_fn):\n",
        "    size=len(dataloader.dataset)\n",
        "    num_batches=len(dataloader)\n",
        "    test_loss, correct=0,0\n",
        "\n",
        "    with torch.no_grad():\n",
        "        for X,y in dataloader:\n",
        "            pred=model(X)\n",
        "            test_loss+=loss_fn(pred, y).item()\n",
        "            correct+=(pred.argmax(1)==y).type(torch.float).sum().item()\n",
        "\n",
        "    test_loss/=num_batches\n",
        "    correct/=size\n",
        "    print(f'Test Error : \\n Accuracy : {(100*correct):>0.1f}%, Avg loss : {test_loss:>8f}\\n')"
      ],
      "metadata": {
        "id": "6Fs7eG78IGHJ"
      },
      "execution_count": 26,
      "outputs": []
    },
    {
      "cell_type": "code",
      "source": [
        "epochs=10\n",
        "for t in range(epochs):\n",
        "    print(f'Epoch {t+1}\\n----------------------------------')\n",
        "    train_loop(train_dataloader, model, loss_fn, optimizer)\n",
        "    test_loop(test_dataloader, model, loss_fn)\n",
        "print('done')"
      ],
      "metadata": {
        "colab": {
          "base_uri": "https://localhost:8080/"
        },
        "id": "UOIZJQHRJYuo",
        "outputId": "38021450-c1c1-4f06-b6d8-8d3fe47f9524"
      },
      "execution_count": 27,
      "outputs": [
        {
          "output_type": "stream",
          "name": "stdout",
          "text": [
            "Epoch 1\n",
            "----------------------------------\n",
            "loss : 2.302338 [    0/60000]\n",
            "loss : 2.288900 [ 6400/60000]\n",
            "loss : 2.269533 [12800/60000]\n",
            "loss : 2.262230 [19200/60000]\n",
            "loss : 2.242597 [25600/60000]\n",
            "loss : 2.217515 [32000/60000]\n",
            "loss : 2.219711 [38400/60000]\n",
            "loss : 2.183098 [44800/60000]\n",
            "loss : 2.175890 [51200/60000]\n",
            "loss : 2.148586 [57600/60000]\n",
            "Test Error : \n",
            " Accuracy : 45.9%, Avg loss : 2.144851\n",
            "\n",
            "Epoch 2\n",
            "----------------------------------\n",
            "loss : 2.149447 [    0/60000]\n",
            "loss : 2.140079 [ 6400/60000]\n",
            "loss : 2.084855 [12800/60000]\n",
            "loss : 2.106713 [19200/60000]\n",
            "loss : 2.038891 [25600/60000]\n",
            "loss : 1.979673 [32000/60000]\n",
            "loss : 2.008156 [38400/60000]\n",
            "loss : 1.920986 [44800/60000]\n",
            "loss : 1.925528 [51200/60000]\n",
            "loss : 1.854942 [57600/60000]\n",
            "Test Error : \n",
            " Accuracy : 54.2%, Avg loss : 1.857393\n",
            "\n",
            "Epoch 3\n",
            "----------------------------------\n",
            "loss : 1.881803 [    0/60000]\n",
            "loss : 1.853140 [ 6400/60000]\n",
            "loss : 1.738570 [12800/60000]\n",
            "loss : 1.793941 [19200/60000]\n",
            "loss : 1.657976 [25600/60000]\n",
            "loss : 1.616597 [32000/60000]\n",
            "loss : 1.642991 [38400/60000]\n",
            "loss : 1.539764 [44800/60000]\n",
            "loss : 1.567593 [51200/60000]\n",
            "loss : 1.469314 [57600/60000]\n",
            "Test Error : \n",
            " Accuracy : 61.4%, Avg loss : 1.488213\n",
            "\n",
            "Epoch 4\n",
            "----------------------------------\n",
            "loss : 1.546388 [    0/60000]\n",
            "loss : 1.514883 [ 6400/60000]\n",
            "loss : 1.370144 [12800/60000]\n",
            "loss : 1.455054 [19200/60000]\n",
            "loss : 1.320234 [25600/60000]\n",
            "loss : 1.323335 [32000/60000]\n",
            "loss : 1.337577 [38400/60000]\n",
            "loss : 1.260689 [44800/60000]\n",
            "loss : 1.297209 [51200/60000]\n",
            "loss : 1.208886 [57600/60000]\n",
            "Test Error : \n",
            " Accuracy : 63.3%, Avg loss : 1.230877\n",
            "\n",
            "Epoch 5\n",
            "----------------------------------\n",
            "loss : 1.298882 [    0/60000]\n",
            "loss : 1.282921 [ 6400/60000]\n",
            "loss : 1.123575 [12800/60000]\n",
            "loss : 1.240607 [19200/60000]\n",
            "loss : 1.106991 [25600/60000]\n",
            "loss : 1.134215 [32000/60000]\n",
            "loss : 1.152623 [38400/60000]\n",
            "loss : 1.089029 [44800/60000]\n",
            "loss : 1.130114 [51200/60000]\n",
            "loss : 1.058483 [57600/60000]\n",
            "Test Error : \n",
            " Accuracy : 64.5%, Avg loss : 1.073725\n",
            "\n",
            "Epoch 6\n",
            "----------------------------------\n",
            "loss : 1.136350 [    0/60000]\n",
            "loss : 1.139455 [ 6400/60000]\n",
            "loss : 0.964703 [12800/60000]\n",
            "loss : 1.109071 [19200/60000]\n",
            "loss : 0.977650 [25600/60000]\n",
            "loss : 1.008867 [32000/60000]\n",
            "loss : 1.039799 [38400/60000]\n",
            "loss : 0.981298 [44800/60000]\n",
            "loss : 1.020790 [51200/60000]\n",
            "loss : 0.964837 [57600/60000]\n",
            "Test Error : \n",
            " Accuracy : 65.8%, Avg loss : 0.972930\n",
            "\n",
            "Epoch 7\n",
            "----------------------------------\n",
            "loss : 1.024251 [    0/60000]\n",
            "loss : 1.047809 [ 6400/60000]\n",
            "loss : 0.856805 [12800/60000]\n",
            "loss : 1.021635 [19200/60000]\n",
            "loss : 0.895970 [25600/60000]\n",
            "loss : 0.921053 [32000/60000]\n",
            "loss : 0.965800 [38400/60000]\n",
            "loss : 0.911501 [44800/60000]\n",
            "loss : 0.944292 [51200/60000]\n",
            "loss : 0.901148 [57600/60000]\n",
            "Test Error : \n",
            " Accuracy : 67.0%, Avg loss : 0.903855\n",
            "\n",
            "Epoch 8\n",
            "----------------------------------\n",
            "loss : 0.941974 [    0/60000]\n",
            "loss : 0.984227 [ 6400/60000]\n",
            "loss : 0.778996 [12800/60000]\n",
            "loss : 0.959216 [19200/60000]\n",
            "loss : 0.841161 [25600/60000]\n",
            "loss : 0.856516 [32000/60000]\n",
            "loss : 0.913065 [38400/60000]\n",
            "loss : 0.864443 [44800/60000]\n",
            "loss : 0.888369 [51200/60000]\n",
            "loss : 0.854159 [57600/60000]\n",
            "Test Error : \n",
            " Accuracy : 68.6%, Avg loss : 0.853498\n",
            "\n",
            "Epoch 9\n",
            "----------------------------------\n",
            "loss : 0.878351 [    0/60000]\n",
            "loss : 0.935942 [ 6400/60000]\n",
            "loss : 0.719801 [12800/60000]\n",
            "loss : 0.912256 [19200/60000]\n",
            "loss : 0.801623 [25600/60000]\n",
            "loss : 0.807429 [32000/60000]\n",
            "loss : 0.872568 [38400/60000]\n",
            "loss : 0.831293 [44800/60000]\n",
            "loss : 0.845996 [51200/60000]\n",
            "loss : 0.817188 [57600/60000]\n",
            "Test Error : \n",
            " Accuracy : 70.1%, Avg loss : 0.814832\n",
            "\n",
            "Epoch 10\n",
            "----------------------------------\n",
            "loss : 0.826824 [    0/60000]\n",
            "loss : 0.896513 [ 6400/60000]\n",
            "loss : 0.672877 [12800/60000]\n",
            "loss : 0.875601 [19200/60000]\n",
            "loss : 0.771003 [25600/60000]\n",
            "loss : 0.769085 [32000/60000]\n",
            "loss : 0.839586 [38400/60000]\n",
            "loss : 0.806470 [44800/60000]\n",
            "loss : 0.812673 [51200/60000]\n",
            "loss : 0.786713 [57600/60000]\n",
            "Test Error : \n",
            " Accuracy : 71.3%, Avg loss : 0.783737\n",
            "\n",
            "done\n"
          ]
        }
      ]
    },
    {
      "cell_type": "code",
      "source": [],
      "metadata": {
        "id": "IxWR4sf3JufI"
      },
      "execution_count": null,
      "outputs": []
    }
  ]
}